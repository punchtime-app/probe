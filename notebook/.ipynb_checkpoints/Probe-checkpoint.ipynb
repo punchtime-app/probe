{
 "cells": [
  {
   "cell_type": "code",
   "execution_count": 1,
   "id": "4c07cc2b",
   "metadata": {},
   "outputs": [],
   "source": [
    "from threading import Thread, Event\n",
    "from time import sleep\n",
    "\n",
    "import datetime\n",
    "import paho.mqtt.client as mqtt\n",
    "import paho.mqtt.publish as publish\n",
    "import pywinctl as pwc\n",
    "\n",
    "# Activity\n",
    "def parse():\n",
    "    title = None\n",
    "    app = pwc.getActiveWindow().getAppName()\n",
    "    \n",
    "    browsers = ['Google Chrome', 'Safari']\n",
    "    if app in browsers:\n",
    "        title = pwc.getActiveWindowTitle()\n",
    "        \n",
    "        if app == 'Google Chrome':\n",
    "            title = title.split(\" - Google Chrome\")[0]\n",
    "        \n",
    "    activity = app if title is None else title\n",
    "    return activity\n",
    "\n",
    "# Probe\n",
    "TRANSMIT_TO = \"paho/test/telemetry\"\n",
    "EVENT = Event()\n",
    "\n",
    "def track():\n",
    "    global EVENT\n",
    "    while not EVENT.is_set():\n",
    "        timestamp = datetime.datetime.now().replace(microsecond=0).isoformat()\n",
    "        activity = parse()\n",
    "        publish.single(TRANSMIT_TO, f\"{timestamp}`{activity}\", hostname=SERVER_HOST)\n",
    "        sleep(10)\n",
    "\n",
    "def start():\n",
    "    global EVENT\n",
    "    \n",
    "    EVENT.clear()\n",
    "    probe = Thread(name='probe', target=track)\n",
    "    probe.start()\n",
    "\n",
    "def stop():\n",
    "    global EVENT\n",
    "    \n",
    "    EVENT.set()\n",
    "\n",
    "\n",
    "# MQTT\n",
    "SERVER_HOST = \"operator.punchtime.app\"\n",
    "SERVER_PORT = 1883\n",
    "KEEPALIVE = 60\n",
    "LISTEN_TO = \"punchtime/SO3emVMqcaeFbNM2pS6tynhvevC3\"\n",
    "\n",
    "def on_connect(client, userdata, flags, rc):\n",
    "    print(f\"Connected with result code {rc}\")\n",
    "    client.subscribe(LISTEN_TO)\n",
    "    \n",
    "def on_disconnect(client, userdata,  rc):\n",
    "    print(\"Disconnected\")  \n",
    "    \n",
    "def on_message(client, userdata, msg):\n",
    "    state = msg.payload.decode(\"utf-8\").lower()\n",
    "    print(state)\n",
    "    \n",
    "    match state:\n",
    "        case \"on\":\n",
    "            start()\n",
    "        case \"off\":\n",
    "            stop()\n",
    "        case \"stop\":\n",
    "            client.loop_stop()\n",
    "            client.disconnect()\n",
    "        case _:\n",
    "            pass"
   ]
  },
  {
   "cell_type": "code",
   "execution_count": 2,
   "id": "108563db",
   "metadata": {},
   "outputs": [
    {
     "name": "stdout",
     "output_type": "stream",
     "text": [
      "Connected with result code 0\n",
      "off\n",
      "on\n",
      "off\n",
      "Disconnected\n"
     ]
    },
    {
     "ename": "KeyboardInterrupt",
     "evalue": "",
     "output_type": "error",
     "traceback": [
      "\u001b[0;31m---------------------------------------------------------------------------\u001b[0m",
      "\u001b[0;31mKeyboardInterrupt\u001b[0m                         Traceback (most recent call last)",
      "Cell \u001b[0;32mIn[2], line 8\u001b[0m\n\u001b[1;32m      5\u001b[0m client\u001b[38;5;241m.\u001b[39mon_message \u001b[38;5;241m=\u001b[39m on_message\n\u001b[1;32m      6\u001b[0m client\u001b[38;5;241m.\u001b[39mconnect(SERVER_HOST, SERVER_PORT, KEEPALIVE)\n\u001b[0;32m----> 8\u001b[0m \u001b[43mclient\u001b[49m\u001b[38;5;241;43m.\u001b[39;49m\u001b[43mloop_forever\u001b[49m\u001b[43m(\u001b[49m\u001b[43m)\u001b[49m\n",
      "File \u001b[0;32m~/miniconda3/envs/vernier/lib/python3.10/site-packages/paho/mqtt/client.py:1773\u001b[0m, in \u001b[0;36mClient.loop_forever\u001b[0;34m(self, timeout, max_packets, retry_first_connection)\u001b[0m\n\u001b[1;32m   1771\u001b[0m     run \u001b[38;5;241m=\u001b[39m \u001b[38;5;28;01mFalse\u001b[39;00m\n\u001b[1;32m   1772\u001b[0m \u001b[38;5;28;01melse\u001b[39;00m:\n\u001b[0;32m-> 1773\u001b[0m     \u001b[38;5;28;43mself\u001b[39;49m\u001b[38;5;241;43m.\u001b[39;49m\u001b[43m_reconnect_wait\u001b[49m\u001b[43m(\u001b[49m\u001b[43m)\u001b[49m\n\u001b[1;32m   1775\u001b[0m     \u001b[38;5;28;01mif\u001b[39;00m should_exit():\n\u001b[1;32m   1776\u001b[0m         run \u001b[38;5;241m=\u001b[39m \u001b[38;5;28;01mFalse\u001b[39;00m\n",
      "File \u001b[0;32m~/miniconda3/envs/vernier/lib/python3.10/site-packages/paho/mqtt/client.py:3612\u001b[0m, in \u001b[0;36mClient._reconnect_wait\u001b[0;34m(self)\u001b[0m\n\u001b[1;32m   3607\u001b[0m remaining \u001b[38;5;241m=\u001b[39m target_time \u001b[38;5;241m-\u001b[39m now\n\u001b[1;32m   3608\u001b[0m \u001b[38;5;28;01mwhile\u001b[39;00m (\u001b[38;5;28mself\u001b[39m\u001b[38;5;241m.\u001b[39m_state \u001b[38;5;241m!=\u001b[39m mqtt_cs_disconnecting\n\u001b[1;32m   3609\u001b[0m         \u001b[38;5;129;01mand\u001b[39;00m \u001b[38;5;129;01mnot\u001b[39;00m \u001b[38;5;28mself\u001b[39m\u001b[38;5;241m.\u001b[39m_thread_terminate\n\u001b[1;32m   3610\u001b[0m         \u001b[38;5;129;01mand\u001b[39;00m remaining \u001b[38;5;241m>\u001b[39m \u001b[38;5;241m0\u001b[39m):\n\u001b[0;32m-> 3612\u001b[0m     \u001b[43mtime\u001b[49m\u001b[38;5;241;43m.\u001b[39;49m\u001b[43msleep\u001b[49m\u001b[43m(\u001b[49m\u001b[38;5;28;43mmin\u001b[39;49m\u001b[43m(\u001b[49m\u001b[43mremaining\u001b[49m\u001b[43m,\u001b[49m\u001b[43m \u001b[49m\u001b[38;5;241;43m1\u001b[39;49m\u001b[43m)\u001b[49m\u001b[43m)\u001b[49m\n\u001b[1;32m   3613\u001b[0m     remaining \u001b[38;5;241m=\u001b[39m target_time \u001b[38;5;241m-\u001b[39m time_func()\n",
      "\u001b[0;31mKeyboardInterrupt\u001b[0m: "
     ]
    }
   ],
   "source": [
    "# if __name__ == '__main__':\n",
    "client = mqtt.Client()\n",
    "client.on_connect = on_connect\n",
    "client.on_disconnect = on_disconnect\n",
    "client.on_message = on_message\n",
    "client.connect(SERVER_HOST, SERVER_PORT, KEEPALIVE)\n",
    "\n",
    "client.loop_forever()"
   ]
  },
  {
   "cell_type": "code",
   "execution_count": null,
   "id": "1d0b4459",
   "metadata": {},
   "outputs": [],
   "source": []
  }
 ],
 "metadata": {
  "kernelspec": {
   "display_name": "Python 3 (ipykernel)",
   "language": "python",
   "name": "python3"
  },
  "language_info": {
   "codemirror_mode": {
    "name": "ipython",
    "version": 3
   },
   "file_extension": ".py",
   "mimetype": "text/x-python",
   "name": "python",
   "nbconvert_exporter": "python",
   "pygments_lexer": "ipython3",
   "version": "3.10.8"
  }
 },
 "nbformat": 4,
 "nbformat_minor": 5
}
