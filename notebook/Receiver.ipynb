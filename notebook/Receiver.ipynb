{
 "cells": [
  {
   "cell_type": "code",
   "execution_count": null,
   "id": "1ca6720c",
   "metadata": {},
   "outputs": [
    {
     "name": "stdout",
     "output_type": "stream",
     "text": [
      "Connected with result code 0\n",
      "2023-02-08T14:33:13`qemu-system-aarch64\n",
      "2023-02-08T14:33:24`Receiver - Jupyter Notebook\n"
     ]
    }
   ],
   "source": [
    "import paho.mqtt.client as mqtt\n",
    "\n",
    "SERVER_HOST = \"operator.punchtime.app\"\n",
    "SERVER_PORT = 1883\n",
    "KEEPALIVE = 60\n",
    "\n",
    "TOPIC = \"paho/test/telemetry\"\n",
    "\n",
    "def on_connect(client, userdata, flags, rc):\n",
    "    print(f\"Connected with result code {rc}\")\n",
    "    client.subscribe(\"paho/test/telemetry\")\n",
    "\n",
    "def on_message(client, userdata, msg):\n",
    "    message = msg.payload.decode(\"utf-8\")\n",
    "    print(message)\n",
    "    \n",
    "def on_disconnect(client, userdata,  rc):\n",
    "    print(\"Disconnected\") \n",
    "\n",
    "client = mqtt.Client()\n",
    "client.on_connect = on_connect\n",
    "client.on_disconnect = on_disconnect\n",
    "client.on_message = on_message\n",
    "client.connect(SERVER_HOST, SERVER_PORT, KEEPALIVE)\n",
    "\n",
    "client.loop_forever()"
   ]
  },
  {
   "cell_type": "code",
   "execution_count": null,
   "id": "80d77e2f",
   "metadata": {},
   "outputs": [],
   "source": []
  }
 ],
 "metadata": {
  "kernelspec": {
   "display_name": "Python 3 (ipykernel)",
   "language": "python",
   "name": "python3"
  },
  "language_info": {
   "codemirror_mode": {
    "name": "ipython",
    "version": 3
   },
   "file_extension": ".py",
   "mimetype": "text/x-python",
   "name": "python",
   "nbconvert_exporter": "python",
   "pygments_lexer": "ipython3",
   "version": "3.10.8"
  }
 },
 "nbformat": 4,
 "nbformat_minor": 5
}
